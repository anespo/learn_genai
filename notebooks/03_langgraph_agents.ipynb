{
 "cells": [
  {
   "cell_type": "markdown",
   "metadata": {},
   "source": [
    "# LangGraph Agents\n",
    "\n",
    "This notebook demonstrates how to create and use a simple multi-agent system using LangGraph with Ollama's llama2:3b model."
   ]
  },
  {
   "cell_type": "code",
   "execution_count": null,
   "metadata": {},
   "outputs": [],
   "source": [
    "import sys\n",
    "sys.path.append('../projects/langgraph_agents')\n",
    "from agents import create_agent_chain\n",
    "from langchain.schema import HumanMessage\n",
    "from langchain.chat_models import ChatOllama\n",
    "\n",
    "# Initialize the Ollama model\n",
    "llm = ChatOllama(model=\"llama2:3b\")\n",
    "\n",
    "# Create the agent chain\n",
    "chain = create_agent_chain(llm)"
   ]
  },
  {
   "cell_type": "markdown",
   "metadata": {},
   "source": [
    "## 1. Run the Agent Workflow"
   ]
  },
  {
   "cell_type": "code",
   "execution_count": null,
   "metadata": {},
   "outputs": [],
   "source": [
    "result = chain.invoke({\n",
    "    \"messages\": [HumanMessage(content=\"Explain the importance of renewable energy.\")],\n",
    "    \"next\": \"researcher\"\n",
    "})\n",
    "\n",
    "for message in result['messages']:\n",
    "    print(message.content)"
   ]
  },
  {
   "cell_type": "markdown",
   "metadata": {},
   "source": [
    "## 2. Analyze the Agent Interaction"
   ]
  },
  {
   "cell_type": "code",
   "execution_count": null,
   "metadata": {},
   "outputs": [],
   "source": [
    "researcher_output = result['messages'][1].content\n",
    "writer_output = result['messages'][2].content\n",
    "\n",
    "print(\"Researcher's output:\")\n",
    "print(researcher_output)\n",
    "print(\"\\nWriter's output:\")\n",
    "print(writer_output)"
   ]
  },
  {
   "cell_type": "markdown",
   "metadata": {},
   "source": [
    "## 3. Interactive Agent Workflow"
   ]
  },
  {
   "cell_type": "code",
   "execution_count": null,
   "metadata": {},
   "outputs": [],
   "source": [
    "while True:\n",
    "    user_input = input(\"Enter a topic for the agents to research and summarize (or type 'exit' to quit): \")\n",
    "    if user_input.lower() == 'exit':\n",
    "        break\n",
    "    \n",
    "    result = chain.invoke({\n",
    "        \"messages\": [HumanMessage(content=f\"Explain the importance of {user_input}.\")],\n",
    "        \"next\": \"researcher\"\n",
    "    })\n",
    "    \n",
    "    print(\"\\nResearcher's output:\")\n",
    "    print(result['messages'][1].content)\n",
    "    print(\"\\nWriter's output:\")\n",
    "    print(result['messages'][2].content)\n",
    "    print(\"\\n\" + \"-\"*50 + \"\\n\")"
   ]
  }
 ],
 "metadata": {
  "kernelspec": {
   "display_name": "Python 3",
   "language": "python",
   "name": "python3"
  },
  "language_info": {
   "codemirror_mode": {
    "name": "ipython",
    "version": 3
   },
   "file_extension": ".py",
   "mimetype": "text/x-python",
   "name": "python",
   "nbconvert_exporter": "python",
   "pygments_lexer": "ipython3",
   "version": "3.8.10"
  }
 },
 "nbformat": 4,
 "nbformat_minor": 4
}

